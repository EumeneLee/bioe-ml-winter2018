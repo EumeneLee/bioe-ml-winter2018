{
  "cells": [
    {
      "cell_type": "markdown",
      "source": [
        "# Week 1 - Introduction\n",
        "\n",
        "**Due January 18 at 8 PM**\n",
        "\n",
        "A quick introduction to git and python.\n",
        "\n",
        "Please run through this tutorial on [how git](https://try.github.io/) functions. Further reading on git [exists here](http://swcarpentry.github.io/git-novice/).\n",
        "\n",
        "For an introduction to python programming, please follow the tutorials [here](http://swcarpentry.github.io/python-novice-inflammation/) and [here](https://swcarpentry.github.io/python-novice-gapminder/).\n",
        "\nWe will cover certain aspects of python programming and specific packages throughout the course. However, at the end of these tutorials, you should be comfortable with the exercises below."
      ],
      "metadata": {}
    },
    {
      "cell_type": "code",
      "source": [
        "%matplotlib inline\n",
        "import numpy as np\n",
        "from sklearn.datasets import load_boston\n",
        "import matplotlib.pyplot as plt"
      ],
      "outputs": [],
      "execution_count": 3,
      "metadata": {}
    },
    {
      "cell_type": "markdown",
      "source": [
        "#### (1) Write a function that stores the first 100 numbers of the fibannaci sequence in a numpy array.\n",
        "\nThen write two assertions as tests of your function."
      ],
      "metadata": {}
    },
    {
      "cell_type": "code",
      "source": [
        "def fib():\n",
        "    arr = np.zeros(100, dtype=np.float64)\n",
        "    \n",
        "    arr[1] = 1\n",
        "    \n",
        "    for ii in range(2, 100):\n",
        "        arr[ii] = arr[ii-1] + arr[ii-2]\n",
        "    \n",
        "    return arr\n",
        "\n",
        "seq = fib()\n",
        "\n",
        "assert(seq[99] == seq[98] + seq[97])\n",
        "assert(seq[2] == 1)"
      ],
      "outputs": [],
      "execution_count": 12,
      "metadata": {}
    },
    {
      "cell_type": "markdown",
      "source": [
        "#### (2) Plot the selected data from this Boston home price dataset, labeling the X and Y axes."
      ],
      "metadata": {}
    },
    {
      "cell_type": "code",
      "source": [
        "boston = load_boston()\n",
        "\n",
        "y = boston.target\n",
        "x = boston.data[:, 0]\n",
        "ylabel = \"Home Prices\"\n",
        "xlabel = \"Crime\"\n",
        "\n",
        "plt.scatter(x, y);\n",
        "plt.xlabel(xlabel);\n",
        "plt.ylabel(ylabel);"
      ],
      "outputs": [
        {
          "output_type": "display_data",
          "data": {
            "text/plain": [
              "<matplotlib.figure.Figure at 0x10bdef6d8>"
            ],
            "image/png": "[encoded data removed]"
          },
          "metadata": {}
        }
      ],
      "execution_count": 5,
      "metadata": {}
    },
    {
      "cell_type": "markdown",
      "source": [
        "#### (3) Write a function that satisfies the assertions below."
      ],
      "metadata": {}
    },
    {
      "cell_type": "code",
      "source": [
        "def func(A, B):\n",
        "    return A + (2 * B)\n",
        "\n",
        "assert(func(0, 20) == 40)\n",
        "assert(func(1, 10) == 21)\n",
        "assert(func(2, 5) == 12)\n",
        "assert(func(3, 2) == 7)\n",
        "assert(func(4, 1) == 6)"
      ],
      "outputs": [],
      "execution_count": 20,
      "metadata": {}
    },
    {
      "cell_type": "markdown",
      "source": [
        "#### (4) Briefly describe one skill and/or ability you would like to take away from this class."
      ],
      "metadata": {}
    },
    {
      "cell_type": "markdown",
      "source": [
        "Answers."
      ],
      "metadata": {}
    },
    {
      "cell_type": "markdown",
      "source": [
        "#### (5) Describe your previous experience with programming, statistics, and modeling, including courses and which languages you've used. There is no wrong answer here—this will help us better tailor the class."
      ],
      "metadata": {}
    },
    {
      "cell_type": "markdown",
      "source": [
        "Answers."
      ],
      "metadata": {}
    },
    {
      "cell_type": "markdown",
      "source": [
        "#### (6) Commit these files to git with a descriptive message."
      ],
      "metadata": {}
    }
  ],
  "metadata": {
    "kernelspec": {
      "name": "python3",
      "language": "python",
      "display_name": "Python 3"
    },
    "language_info": {
      "name": "python",
      "version": "3.6.4",
      "mimetype": "text/x-python",
      "codemirror_mode": {
        "name": "ipython",
        "version": 3
      },
      "pygments_lexer": "ipython3",
      "nbconvert_exporter": "python",
      "file_extension": ".py"
    },
    "kernel_info": {
      "name": "python3"
    },
    "nteract": {
      "version": "0.5.5"
    }
  },
  "nbformat": 4,
  "nbformat_minor": 2
}