{
 "cells": [
  {
   "cell_type": "markdown",
   "metadata": {},
   "source": [
    "# Week 3: Fitting\n",
    "\n",
    "In many different cases, we might have a model for how a system works, and want to fit that model to a set of observations. \n",
    "\n",
    "We're going to investigate the process of fitting using a classic paper that proposed a model for the [T cell receptor](https://www.ncbi.nlm.nih.gov/pubmed/11606269). Here, the authors develop a mathematical model for how binding occurs and then have observations of how much binding occurs under specific conditions. Identifying whether and how this model fits has led to a better understanding of how our immune system utilizes antibodes, and efforts to design antibodies that function more potently."
   ]
  },
  {
   "cell_type": "code",
   "execution_count": 14,
   "metadata": {},
   "outputs": [],
   "source": [
    "% matplotlib inline\n",
    "\n",
    "import matplotlib.pyplot as plt\n",
    "import numpy as np\n",
    "from scipy.special import binom\n",
    "from scipy.optimize import brentq\n",
    "\n",
    "np.seterr(over='raise')\n",
    "\n",
    "def StoneMod(Rtot, Kd, v, Kx, L0):\n",
    "    '''\n",
    "    Returns the number of mutlivalent ligand bound to a cell with Rtot\n",
    "    receptors, granted each epitope of the ligand binds to the receptor\n",
    "    kind in question with dissociation constant Kd and cross-links with\n",
    "    other receptors with crosslinking constant Kx. All eq derived from Stone et al. (2001).\n",
    "    '''\n",
    "    v = np.int_(v)\n",
    "    \n",
    "    # Mass balance for receptor species, to identify the amount of free receptor\n",
    "    diffFunAnon = lambda x: Rtot-x*(1+v*L0*(1/Kd)*(1+Kx*x)**(v-1))\n",
    "    \n",
    "    # Check that there is a solution\n",
    "    if diffFunAnon(0) * diffFunAnon(Rtot) > 0:\n",
    "        raise RuntimeError(\"There is no solution with these parameters. Are your inputs correct?\")\n",
    "\n",
    "    # Vector of binomial coefficients\n",
    "    Req = brentq(diffFunAnon, 0, Rtot, disp=False)\n",
    "\n",
    "    # Calculate vieq from equation 1\n",
    "    vieq = L0*(1/Kd)*Req*(binom(v, np.arange(1, v + 1))) * np.power(Kx*Req, np.arange(v))\n",
    "\n",
    "    # Calculate L, according to equation 7\n",
    "    Lbound = np.sum(vieq)\n",
    "\n",
    "    # Calculate Rmulti from equation 5\n",
    "    Rmulti = np.sum(np.multiply(vieq[1:], np.arange(2, v + 1, dtype=np.float)))\n",
    "\n",
    "    # Calculate Rbound\n",
    "    Rbnd = np.sum(np.multiply(vieq, np.arange(1, v + 1, dtype=np.float)))\n",
    "\n",
    "    # Calculate numXlinks from equation 4\n",
    "    nXlink = np.sum(np.multiply(vieq[1:], np.arange(1, v, dtype=np.float)))\n",
    "\n",
    "    return (Lbound, Rbnd, Rmulti, nXlink)\n",
    "\n",
    "data = np.loadtxt(\"./data/wk3-stone.csv\", delimiter=\",\")\n",
    "\n",
    "# Vector of the ligand concentrations, cell response (proportional to Rmulti), valencies\n",
    "Xs, Ys, Vs = np.hsplit(data, 3)\n",
    "\n",
    "Xs = np.squeeze(Xs)\n",
    "Ys = np.squeeze(Ys)\n",
    "Vs = np.squeeze(Vs)"
   ]
  },
  {
   "cell_type": "markdown",
   "metadata": {},
   "source": [
    "#### (1) We will fit the data contained within Fig. 3B. Plot this data and describe the relationship you see between Kx, Kd, and valency."
   ]
  },
  {
   "cell_type": "code",
   "execution_count": 15,
   "metadata": {
    "inputHidden": false,
    "outputHidden": false
   },
   "outputs": [
    {
     "data": {
      "image/png": "[encoded data removed]",
      "text/plain": [
       "<matplotlib.figure.Figure at 0x114e5cf60>"
      ]
     },
     "metadata": {},
     "output_type": "display_data"
    }
   ],
   "source": [
    "plt.semilogx(Xs, Ys, '.');\n",
    "plt.xlabel('Concentration');\n",
    "plt.ylabel('CD3 (1/cell)');"
   ]
  },
  {
   "cell_type": "markdown",
   "metadata": {},
   "source": [
    "#### (2) First, to do so, we'll need a function that takes the model predictions, scales them to the units of the actual measurements, and finds the predictions for each condition. Define a scaling parameter and a function that takes it along with the other parameters to make predictions about the experiment.\n",
    "\n",
    "Use the fit parameters shown in Table 1 (row 2) and overlay with the measurements to ensure your function is working. (Scale = 1 for now.)"
   ]
  },
  {
   "cell_type": "code",
   "execution_count": 17,
   "metadata": {
    "inputHidden": false,
    "outputHidden": false
   },
   "outputs": [
    {
     "data": {
      "image/png": "[encoded data removed]",
      "text/plain": [
       "<matplotlib.figure.Figure at 0x115333438>"
      ]
     },
     "metadata": {},
     "output_type": "display_data"
    }
   ],
   "source": [
    "XsSim = np.repeat(np.logspace(-11, -5), 3)\n",
    "VsSim = np.tile(np.array([2, 3, 4]), 50)\n",
    "\n",
    "def predict(Rtot, Kd, Kx, Vs, Ls, scale):\n",
    "    pred = np.zeros(Ls.shape) \n",
    "    \n",
    "    for ii in range(Ls.size):\n",
    "        pred[ii] = StoneMod(Rtot, Kd, Vs[ii], Kx, Ls[ii])[2]\n",
    "    \n",
    "    return pred * scale\n",
    "\n",
    "Rtot = 24000\n",
    "\n",
    "ss = predict(Rtot, 1.7E-6, 3.15E-4, VsSim, XsSim, 1.0)\n",
    "\n",
    "plt.semilogx(XsSim, ss, '.');\n",
    "plt.semilogx(Xs, Ys, '.');\n",
    "plt.xlabel('Concentration');\n",
    "plt.ylabel('CD3 (1/cell)');"
   ]
  },
  {
   "cell_type": "markdown",
   "metadata": {},
   "source": [
    "#### (2) Now use `scipy.optimize.least_squares` to find the least squares solution."
   ]
  },
  {
   "cell_type": "code",
   "execution_count": 18,
   "metadata": {
    "inputHidden": false,
    "outputHidden": false
   },
   "outputs": [],
   "source": [
    "Ypred = lambda x: predict(Rtot, x[0], x[1], Vs, Xs, x[2]) - Ys\n",
    "\n",
    "from scipy.optimize import least_squares\n",
    "\n",
    "sol = least_squares(Ypred, [1.7E-6, 3.15E-4, 1.0])\n",
    "\n",
    "best_x = sol.x"
   ]
  },
  {
   "cell_type": "markdown",
   "metadata": {},
   "source": [
    "#### (3) Using leave-one-out crossvalidation, does this model predict the data? Plot the measured vs. predicted data."
   ]
  },
  {
   "cell_type": "code",
   "execution_count": null,
   "metadata": {},
   "outputs": [],
   "source": [
    "# Answer"
   ]
  },
  {
   "cell_type": "markdown",
   "metadata": {},
   "source": [
    "#### (4) Using bootstrap estimation, plot the confidence interval of the model along with the data points."
   ]
  },
  {
   "cell_type": "code",
   "execution_count": null,
   "metadata": {},
   "outputs": [],
   "source": []
  },
  {
   "cell_type": "markdown",
   "metadata": {},
   "source": [
    "#### (5) Now, we will perform a local sensitivity analysis to look at the dependence of the model results on each parameter. Vary each parameter up and down by 10-fold **while holding the others constant**, and plot the sum of squared error.\n",
    "\n",
    "Which paramter influences the fit the most? Which one the least?"
   ]
  },
  {
   "cell_type": "code",
   "execution_count": 10,
   "metadata": {
    "inputHidden": false,
    "outputHidden": false
   },
   "outputs": [],
   "source": [
    "ssePred = lambda x: np.sum(np.square(Ypred(x)))\n",
    "\n",
    "a = np.logspace(-1, 1, num = 41)\n",
    "b = np.stack((a, a, a))\n",
    "\n",
    "\n",
    "for ii in range(b.shape[0]):\n",
    "    for jj in range(b.shape[1]):\n",
    "        temp = best_x.copy()\n",
    "        temp[ii] = temp[ii] * a[jj]\n",
    "        \n",
    "        b[ii, jj] = ssePred(temp)\n",
    "\n",
    "\n",
    "b = b / np.min(np.min(b))\n",
    "        \n",
    "plt.loglog(a, b[0, :]);\n",
    "plt.loglog(a, b[1, :]);\n",
    "plt.loglog(a, b[2, :]);"
   ]
  },
  {
   "cell_type": "markdown",
   "metadata": {},
   "source": [
    "#### (6) While easier to perform, a local sensitivity analysis ignores codependency between the parameters. Do you anticipate your predictions of the parameter values will be more or less specified with a global analysis?"
   ]
  },
  {
   "cell_type": "code",
   "execution_count": null,
   "metadata": {},
   "outputs": [],
   "source": [
    "# Answer."
   ]
  },
  {
   "cell_type": "markdown",
   "metadata": {},
   "source": [
    "#### (7) Now, vary each parameter from the optimal solution, *allowing the other parameters to vary*. Was your prediction true? How might the other parameters be varying when Kd increases?\n",
    "\n",
    "Hint: Probably the easiest way to do this is mess with the bounds of the least squares solver."
   ]
  },
  {
   "cell_type": "markdown",
   "metadata": {},
   "source": []
  },
  {
   "cell_type": "code",
   "execution_count": 11,
   "metadata": {
    "inputHidden": false,
    "outputHidden": false
   },
   "outputs": [],
   "source": [
    "bglobal = np.stack((a, a, a))\n",
    "\n",
    "for ii in range(bglobal.shape[0]):\n",
    "    for jj in range(bglobal.shape[1]):\n",
    "        temp = best_x.copy()\n",
    "        temp[ii] = temp[ii] * a[jj]\n",
    "        \n",
    "        lb = np.array([-np.inf, -np.inf, -np.inf])\n",
    "        ub = -lb\n",
    "        \n",
    "        lb[ii] = temp[ii] - 1.0E-12\n",
    "        ub[ii] = temp[ii] + 1.0E-12\n",
    "        \n",
    "        bndtemp = (lb, ub)\n",
    "        \n",
    "        x0 = [1.7E-6, 3.15E-4, 1.0]\n",
    "        \n",
    "        x0[ii] = temp[ii]\n",
    "        \n",
    "        bglobal[ii, jj] = least_squares(Ypred, x0, bounds = bndtemp).cost\n",
    "\n",
    "\n",
    "bglobal = bglobal / np.min(np.min(bglobal))\n",
    "\n",
    "for ii in range(3):\n",
    "    plt.loglog(a, bglobal[ii, :]);"
   ]
  },
  {
   "cell_type": "markdown",
   "metadata": {},
   "source": [
    "#### (8) At the same time as providing the number of multimerized receptors, the model also infers the quantities of other properties, such as the amount of ligand and receptor bound. Using the bootstrap estimates, plot the confidence in these other parameters. Are these more or less exactly specified than Rmulti? What can you say about which quantities will be most exactly predicted?"
   ]
  },
  {
   "cell_type": "code",
   "execution_count": null,
   "metadata": {},
   "outputs": [],
   "source": [
    "# Answer"
   ]
  },
  {
   "cell_type": "markdown",
   "metadata": {},
   "source": [
    "#### (9) Other quantities such as the number of bound receptors may be possible to measure as well. Describe how you would go about fitting this data along with the multimerized receptor measurements. How might more measurements of different types be better than more measurements of the same type?"
   ]
  },
  {
   "cell_type": "markdown",
   "metadata": {},
   "source": [
    "Answer."
   ]
  }
 ],
 "metadata": {
  "kernel_info": {
   "name": "python3"
  },
  "kernelspec": {
   "display_name": "Python 3",
   "language": "python",
   "name": "python3"
  },
  "language_info": {
   "codemirror_mode": {
    "name": "ipython",
    "version": 3
   },
   "file_extension": ".py",
   "mimetype": "text/x-python",
   "name": "python",
   "nbconvert_exporter": "python",
   "pygments_lexer": "ipython3",
   "version": "3.6.3"
  },
  "nteract": {
   "version": "0.3.4"
  }
 },
 "nbformat": 4,
 "nbformat_minor": 2
}
